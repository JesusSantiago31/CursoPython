{
 "cells": [
  {
   "cell_type": "code",
   "execution_count": null,
   "id": "90557f59-af0f-49d1-b03b-46a7f262c360",
   "metadata": {},
   "outputs": [],
   "source": [
    "# Separabilidades lineales o no lineal \n",
    "# Bandas de prediccion inferiores / superiores\n",
    "# Bandas de confianza inferiores / superiores\n",
    "\n",
    "# TLU red de ulambrado \n",
    "# Control estocastico\n",
    "# Gradiente Descendiente Etocaistico\n",
    "\n"
   ]
  }
 ],
 "metadata": {
  "kernelspec": {
   "display_name": "Python 3 (ipykernel)",
   "language": "python",
   "name": "python3"
  },
  "language_info": {
   "codemirror_mode": {
    "name": "ipython",
    "version": 3
   },
   "file_extension": ".py",
   "mimetype": "text/x-python",
   "name": "python",
   "nbconvert_exporter": "python",
   "pygments_lexer": "ipython3",
   "version": "3.9.19"
  }
 },
 "nbformat": 4,
 "nbformat_minor": 5
}

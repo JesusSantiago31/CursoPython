{
 "cells": [
  {
   "cell_type": "markdown",
   "id": "e0d3b971-38d3-4e29-bd70-07adb45d590e",
   "metadata": {},
   "source": [
    "# Introduccion a Pandas"
   ]
  },
  {
   "cell_type": "markdown",
   "id": "f0317a0c-2d25-4d26-b393-9a3e23ed4475",
   "metadata": {},
   "source": [
    "[Pandas](https://pandas.pydata.org/docs/) es una biblioteca que proporciona estructura de datos y herramientas de \n",
    "analisis de datos de alto rendimiento y faciles de usar\n",
    "* La estructura de datos principal es el DataFrame que puede considerarse como una tabla 2D en memoria (como una hoja de calculo, nombre de columna y etiquetas de fila).\n",
    "* Muchas funciones disponibles en Excel estan disponibles mediante programación, com ocrear las tablas dinamicas, calcular columnas basadas en otras columnas, trazar gráficos, etc.\n",
    "* Proporciona un alto rendimiento para manipular (unir, dividir, modificar, etc) grandes volumenes de datos."
   ]
  },
  {
   "cell_type": "markdown",
   "id": "4d2e9554-9d75-4d38-ad15-b5ba403ef51a",
   "metadata": {},
   "source": [
    "## Import"
   ]
  },
  {
   "cell_type": "code",
   "execution_count": 1,
   "id": "6aecf461-c8da-4811-9717-d82f87bcef96",
   "metadata": {},
   "outputs": [],
   "source": [
    "import pandas as pd"
   ]
  },
  {
   "cell_type": "markdown",
   "id": "81822c58-848a-4711-94c6-990fde9b7532",
   "metadata": {},
   "source": [
    "### Estructuras de datos en Pandas"
   ]
  },
  {
   "cell_type": "markdown",
   "id": "8967394d-dab0-474e-b4e4-c730a865d9c1",
   "metadata": {},
   "source": [
    "La biblioteca Panda, de manera genérica, contiene las siguientes estructuras de datos:\n",
    "* **Series**: Array de una dimension.\n",
    "* **DataFrame**: Se corresponde con na tabla de dos dimesiones.\n",
    "* **Panel**: Similar a un diccionario de DataFrame."
   ]
  },
  {
   "cell_type": "markdown",
   "id": "1fc6a56d-bcd2-4bb3-882f-094f1d42325c",
   "metadata": {},
   "source": [
    "### Creacion del objeto Series"
   ]
  },
  {
   "cell_type": "code",
   "execution_count": 2,
   "id": "30e9ddac-3258-4add-acf2-e1dd4378503e",
   "metadata": {},
   "outputs": [
    {
     "name": "stdout",
     "output_type": "stream",
     "text": [
      "0     2\n",
      "1     4\n",
      "2     6\n",
      "3     8\n",
      "4    10\n",
      "dtype: int64\n"
     ]
    }
   ],
   "source": [
    "# Creacion del objeto Serios.\n",
    "s = pd.Series([2, 4, 6, 8, 10])\n",
    "print(s)"
   ]
  },
  {
   "cell_type": "code",
   "execution_count": 3,
   "id": "a741d928-55ba-415a-a2fb-9df70d9a76e8",
   "metadata": {},
   "outputs": [
    {
     "name": "stdout",
     "output_type": "stream",
     "text": [
      "Emilio     169\n",
      "Anel       145\n",
      "Chucho     170\n",
      "Jocelin    170\n",
      "dtype: int64\n"
     ]
    }
   ],
   "source": [
    "# Creacion de un objeto series e inicializarlo con un diccionario de Python \n",
    "Altura = {\"Emilio\": 169, \"Anel\": 145, \"Chucho\": 170, \"Jocelin\": 170}\n",
    "s = pd.Series(Altura)\n",
    "print(s)"
   ]
  },
  {
   "cell_type": "code",
   "execution_count": 4,
   "id": "f41fae76-e4c4-488f-8970-6cbf0db5e21d",
   "metadata": {},
   "outputs": [
    {
     "name": "stdout",
     "output_type": "stream",
     "text": [
      "Jocelin    170\n",
      "Emilio     169\n",
      "dtype: int64\n"
     ]
    }
   ],
   "source": [
    "# Creacion de un objeto Series e inicializarlo con algunos elementos de un diccionario de Python\n",
    "Altura = {\"Emilio\": 169, \"Anel\": 145, \"Chucho\": 170, \"Jocelin\": 170}\n",
    "s = pd.Series(Altura, index = [\"Jocelin\", \"Emilio\"])\n",
    "print(s)"
   ]
  },
  {
   "cell_type": "code",
   "execution_count": 5,
   "id": "16deb2d6-f976-474f-a867-9fdd57c8992e",
   "metadata": {},
   "outputs": [
    {
     "name": "stdout",
     "output_type": "stream",
     "text": [
      "Num1    34\n",
      "Num2    34\n",
      "Num3    34\n",
      "Num4    34\n",
      "dtype: int64\n"
     ]
    }
   ],
   "source": [
    "# Creacion de un objeto Series e inicializarlo con un escalar.\n",
    "s = pd.Series(34, [\"Num1\", \"Num2\", \"Num3\", \"Num4\"])\n",
    "print(s)"
   ]
  },
  {
   "cell_type": "markdown",
   "id": "e7b3b3e0-e082-4f53-8b91-81989c693d57",
   "metadata": {},
   "source": [
    "### Acceso a los elementos de un Array\n",
    "\n",
    "Cada elemento en un objeto Series tiene un identificador que se denomina **index label**"
   ]
  },
  {
   "cell_type": "code",
   "execution_count": 6,
   "id": "93cacf94-ab66-4384-acd4-02986ecf0f07",
   "metadata": {},
   "outputs": [
    {
     "name": "stdout",
     "output_type": "stream",
     "text": [
      "Num1    2\n",
      "Num2    4\n",
      "Num3    6\n",
      "Num4    8\n",
      "dtype: int64\n"
     ]
    }
   ],
   "source": [
    "# Crear un objeto series\n",
    "s = pd.Series([2, 4, 6, 8], index=[\"Num1\", \"Num2\", \"Num3\", \"Num4\"])\n",
    "print(s)"
   ]
  },
  {
   "cell_type": "code",
   "execution_count": 7,
   "id": "1fa233ee-1099-480e-ac23-177446b5bb87",
   "metadata": {},
   "outputs": [
    {
     "data": {
      "text/plain": [
       "np.int64(6)"
      ]
     },
     "execution_count": 7,
     "metadata": {},
     "output_type": "execute_result"
    }
   ],
   "source": [
    "# Acceder al tercer elemento del objeto\n",
    "s[\"Num3\"]"
   ]
  },
  {
   "cell_type": "code",
   "execution_count": 8,
   "id": "eae03a5f-77e8-4a85-9422-bd7bb2541a40",
   "metadata": {},
   "outputs": [
    {
     "name": "stderr",
     "output_type": "stream",
     "text": [
      "/tmp/ipykernel_16642/558354664.py:2: FutureWarning: Series.__getitem__ treating keys as positions is deprecated. In a future version, integer keys will always be treated as labels (consistent with DataFrame behavior). To access a value by position, use `ser.iloc[pos]`\n",
      "  s[2]\n"
     ]
    },
    {
     "data": {
      "text/plain": [
       "np.int64(6)"
      ]
     },
     "execution_count": 8,
     "metadata": {},
     "output_type": "execute_result"
    }
   ],
   "source": [
    "# Tamben se puede acceder por posicion.\n",
    "s[2]"
   ]
  },
  {
   "cell_type": "code",
   "execution_count": 9,
   "id": "e1abbafc-375f-4db7-ace2-50f9bc32cf99",
   "metadata": {},
   "outputs": [
    {
     "data": {
      "text/plain": [
       "np.int64(6)"
      ]
     },
     "execution_count": 9,
     "metadata": {},
     "output_type": "execute_result"
    }
   ],
   "source": [
    "# loc es la forma estandar de acceder a un elemento de un Objeto Series por atributo.\n",
    "s.loc[\"Num3\"]"
   ]
  },
  {
   "cell_type": "code",
   "execution_count": 10,
   "id": "d4d0ee4b-ba02-47e0-a228-07792d5f1cdf",
   "metadata": {},
   "outputs": [
    {
     "data": {
      "text/plain": [
       "np.int64(6)"
      ]
     },
     "execution_count": 10,
     "metadata": {},
     "output_type": "execute_result"
    }
   ],
   "source": [
    "# iloc es la forma estandar de acceder a un elemento de un objeto Series por posicion\n",
    "s.iloc[2]"
   ]
  },
  {
   "cell_type": "code",
   "execution_count": 11,
   "id": "f74aa33e-ff99-4d60-be35-6af28184e792",
   "metadata": {},
   "outputs": [
    {
     "data": {
      "text/plain": [
       "Num3    6\n",
       "Num4    8\n",
       "dtype: int64"
      ]
     },
     "execution_count": 11,
     "metadata": {},
     "output_type": "execute_result"
    }
   ],
   "source": [
    "# Accediendo al segundo y tercer elemento por posición \n",
    "s.iloc[2:4]"
   ]
  },
  {
   "cell_type": "markdown",
   "id": "428a48bd-2bb5-4046-93c0-797edcbcb54c",
   "metadata": {},
   "source": [
    "### Operaciones Aritméticas con Series"
   ]
  },
  {
   "cell_type": "code",
   "execution_count": 12,
   "id": "6c47d9cf-ddec-4f97-a39e-a9403b5d8eac",
   "metadata": {},
   "outputs": [
    {
     "name": "stdout",
     "output_type": "stream",
     "text": [
      "0     2\n",
      "1     4\n",
      "2     6\n",
      "3     8\n",
      "4    10\n",
      "dtype: int64\n"
     ]
    }
   ],
   "source": [
    "# Crear un objeto Series\n",
    "s = pd.Series([2, 4, 6, 8, 10])\n",
    "print(s)"
   ]
  },
  {
   "cell_type": "code",
   "execution_count": 13,
   "id": "93bc1778-a462-4f6b-86cf-6afd567bdee8",
   "metadata": {},
   "outputs": [
    {
     "data": {
      "text/plain": [
       "np.int64(30)"
      ]
     },
     "execution_count": 13,
     "metadata": {},
     "output_type": "execute_result"
    }
   ],
   "source": [
    "# Los objetos Series son similares y compatibles con los Arrays de Numpy\n",
    "import numpy as np\n",
    "# ufunc de Numpy para sumar los elementos.\n",
    "np.sum(s)"
   ]
  },
  {
   "cell_type": "code",
   "execution_count": 14,
   "id": "d0bd97ed-ed88-4df8-a3fd-898c2c241bd0",
   "metadata": {},
   "outputs": [
    {
     "data": {
      "text/plain": [
       "0     4\n",
       "1     8\n",
       "2    12\n",
       "3    16\n",
       "4    20\n",
       "dtype: int64"
      ]
     },
     "execution_count": 14,
     "metadata": {},
     "output_type": "execute_result"
    }
   ],
   "source": [
    "s * 2"
   ]
  },
  {
   "cell_type": "markdown",
   "id": "d0949661-2a9a-4033-8e38-8598eb12dfaf",
   "metadata": {},
   "source": [
    "### Representacion gráfica de un objeto Series\n"
   ]
  },
  {
   "cell_type": "code",
   "execution_count": 15,
   "id": "7514d395-f26d-41a8-b6f1-73c8df9eb7b8",
   "metadata": {},
   "outputs": [
    {
     "name": "stdout",
     "output_type": "stream",
     "text": [
      "0     4.4\n",
      "1     5.1\n",
      "2     6.1\n",
      "3     6.2\n",
      "4     6.1\n",
      "5     6.1\n",
      "6     5.7\n",
      "7     5.2\n",
      "8     4.7\n",
      "9     4.1\n",
      "10    3.9\n",
      "Name: Temperaturas, dtype: float64\n"
     ]
    }
   ],
   "source": [
    "# Crear un objeto Series denominado Temperaturas.\n",
    "Temperaturas = [4.4, 5.1, 6.1, 6.2, 6.1, 6.1, 5.7, 5.2, 4.7, 4.1, 3.9]\n",
    "s = pd.Series(Temperaturas, name=\"Temperaturas\")\n",
    "print(s)"
   ]
  },
  {
   "cell_type": "code",
   "execution_count": 16,
   "id": "309241a5-6355-4214-be3f-36473a07aa6b",
   "metadata": {},
   "outputs": [
    {
     "data": {
      "image/png": "[encoded data removed]",
      "text/plain": [
       "<Figure size 640x480 with 1 Axes>"
      ]
     },
     "metadata": {},
     "output_type": "display_data"
    }
   ],
   "source": [
    "# Representacion gráfica del objeto Series\n",
    "%matplotlib inline\n",
    "import matplotlib.pyplot as plt\n",
    "s.plot()\n",
    "plt.show()"
   ]
  },
  {
   "cell_type": "markdown",
   "id": "054a758e-c9a3-4b9b-b6a7-fe8bc1aaa645",
   "metadata": {},
   "source": [
    "## Creacion de un objeto DataFrame."
   ]
  },
  {
   "cell_type": "code",
   "execution_count": 17,
   "id": "35f97127-d67b-4f68-a966-72961dd81fce",
   "metadata": {},
   "outputs": [
    {
     "data": {
      "text/html": [
       "<div>\n",
       "<style scoped>\n",
       "    .dataframe tbody tr th:only-of-type {\n",
       "        vertical-align: middle;\n",
       "    }\n",
       "\n",
       "    .dataframe tbody tr th {\n",
       "        vertical-align: top;\n",
       "    }\n",
       "\n",
       "    .dataframe thead th {\n",
       "        text-align: right;\n",
       "    }\n",
       "</style>\n",
       "<table border=\"1\" class=\"dataframe\">\n",
       "  <thead>\n",
       "    <tr style=\"text-align: right;\">\n",
       "      <th></th>\n",
       "      <th>Peso</th>\n",
       "      <th>Altura</th>\n",
       "      <th>Mascotas</th>\n",
       "    </tr>\n",
       "  </thead>\n",
       "  <tbody>\n",
       "    <tr>\n",
       "      <th>Anel</th>\n",
       "      <td>60</td>\n",
       "      <td>145</td>\n",
       "      <td>2.0</td>\n",
       "    </tr>\n",
       "    <tr>\n",
       "      <th>Chucho</th>\n",
       "      <td>74</td>\n",
       "      <td>170</td>\n",
       "      <td>NaN</td>\n",
       "    </tr>\n",
       "    <tr>\n",
       "      <th>Emilio</th>\n",
       "      <td>72</td>\n",
       "      <td>169</td>\n",
       "      <td>NaN</td>\n",
       "    </tr>\n",
       "    <tr>\n",
       "      <th>Jocelin</th>\n",
       "      <td>73</td>\n",
       "      <td>170</td>\n",
       "      <td>9.0</td>\n",
       "    </tr>\n",
       "  </tbody>\n",
       "</table>\n",
       "</div>"
      ],
      "text/plain": [
       "         Peso  Altura  Mascotas\n",
       "Anel       60     145       2.0\n",
       "Chucho     74     170       NaN\n",
       "Emilio     72     169       NaN\n",
       "Jocelin    73     170       9.0"
      ]
     },
     "execution_count": 17,
     "metadata": {},
     "output_type": "execute_result"
    }
   ],
   "source": [
    "# Creacion de un DataFrame e inicializarlo con un diccionario de Ojetos Series\n",
    "Personas = {\n",
    "    \"Peso\": pd.Series([72, 60, 74, 73], [\"Emilio\", \"Anel\", \"Chucho\", \"Jocelin\"]),\n",
    "    \"Altura\": pd.Series({\"Emilio\": 169, \"Anel\": 145, \"Chucho\": 170, \"Jocelin\": 170}),\n",
    "    \"Mascotas\": pd.Series([2, 9], [\"Anel\", \"Jocelin\"])\n",
    "}\n",
    "\n",
    "df = pd.DataFrame(Personas)\n",
    "df"
   ]
  },
  {
   "cell_type": "markdown",
   "id": "9a545c3b-4abe-4686-a695-85853d84695b",
   "metadata": {},
   "source": [
    "Es posible forzar el DataFrame a que presente determinadas columnas y en orden determinado.\n"
   ]
  },
  {
   "cell_type": "code",
   "execution_count": 18,
   "id": "d009e293-d014-4cf9-ba15-a8eb8b4db3ec",
   "metadata": {},
   "outputs": [
    {
     "data": {
      "text/html": [
       "<div>\n",
       "<style scoped>\n",
       "    .dataframe tbody tr th:only-of-type {\n",
       "        vertical-align: middle;\n",
       "    }\n",
       "\n",
       "    .dataframe tbody tr th {\n",
       "        vertical-align: top;\n",
       "    }\n",
       "\n",
       "    .dataframe thead th {\n",
       "        text-align: right;\n",
       "    }\n",
       "</style>\n",
       "<table border=\"1\" class=\"dataframe\">\n",
       "  <thead>\n",
       "    <tr style=\"text-align: right;\">\n",
       "      <th></th>\n",
       "      <th>Altura</th>\n",
       "      <th>Peso</th>\n",
       "    </tr>\n",
       "  </thead>\n",
       "  <tbody>\n",
       "    <tr>\n",
       "      <th>Chucho</th>\n",
       "      <td>170</td>\n",
       "      <td>74</td>\n",
       "    </tr>\n",
       "    <tr>\n",
       "      <th>Emilio</th>\n",
       "      <td>169</td>\n",
       "      <td>72</td>\n",
       "    </tr>\n",
       "  </tbody>\n",
       "</table>\n",
       "</div>"
      ],
      "text/plain": [
       "        Altura  Peso\n",
       "Chucho     170    74\n",
       "Emilio     169    72"
      ]
     },
     "execution_count": 18,
     "metadata": {},
     "output_type": "execute_result"
    }
   ],
   "source": [
    "# Creacion de un DataFrame e inicializarlo con un diccionario de Ojetos Series\n",
    "Personas = {\n",
    "    \"Peso\": pd.Series([72, 60, 74, 73], [\"Emilio\", \"Anel\", \"Chucho\", \"Jocelin\"]),\n",
    "    \"Altura\": pd.Series({\"Emilio\": 169, \"Anel\": 145, \"Chucho\": 170, \"Jocelin\": 170}),\n",
    "    \"Mascotas\": pd.Series([2, 9], [\"Anel\", \"Jocelin\"])\n",
    "}\n",
    "\n",
    "df = pd.DataFrame(\n",
    "    Personas, \n",
    "    columns = [\"Altura\", \"Peso\"],\n",
    "    index = [\"Chucho\", \"Emilio\"])\n",
    "\n",
    "df"
   ]
  },
  {
   "cell_type": "code",
   "execution_count": 19,
   "id": "251488c5-44ce-4b67-a4da-7662bd0dac35",
   "metadata": {},
   "outputs": [
    {
     "data": {
      "text/html": [
       "<div>\n",
       "<style scoped>\n",
       "    .dataframe tbody tr th:only-of-type {\n",
       "        vertical-align: middle;\n",
       "    }\n",
       "\n",
       "    .dataframe tbody tr th {\n",
       "        vertical-align: top;\n",
       "    }\n",
       "\n",
       "    .dataframe thead th {\n",
       "        text-align: right;\n",
       "    }\n",
       "</style>\n",
       "<table border=\"1\" class=\"dataframe\">\n",
       "  <thead>\n",
       "    <tr style=\"text-align: right;\">\n",
       "      <th></th>\n",
       "      <th>Altura</th>\n",
       "      <th>Mascotas</th>\n",
       "      <th>Peso</th>\n",
       "    </tr>\n",
       "  </thead>\n",
       "  <tbody>\n",
       "    <tr>\n",
       "      <th>Jocelin</th>\n",
       "      <td>169</td>\n",
       "      <td>3</td>\n",
       "      <td>72</td>\n",
       "    </tr>\n",
       "    <tr>\n",
       "      <th>Emilio</th>\n",
       "      <td>145</td>\n",
       "      <td>2</td>\n",
       "      <td>60</td>\n",
       "    </tr>\n",
       "    <tr>\n",
       "      <th>Anel</th>\n",
       "      <td>170</td>\n",
       "      <td>1</td>\n",
       "      <td>74</td>\n",
       "    </tr>\n",
       "  </tbody>\n",
       "</table>\n",
       "</div>"
      ],
      "text/plain": [
       "         Altura  Mascotas  Peso\n",
       "Jocelin     169         3    72\n",
       "Emilio      145         2    60\n",
       "Anel        170         1    74"
      ]
     },
     "execution_count": 19,
     "metadata": {},
     "output_type": "execute_result"
    }
   ],
   "source": [
    "# Creacion de un DataFrame e inicializarlo con una lista de listas de Python.\n",
    "# NOTA: Deben especificarse las columnas e indices por separado.\n",
    "Valores = [\n",
    "    [169, 3, 72], \n",
    "    [145, 2, 60],\n",
    "    [170, 1, 74]\n",
    "]\n",
    "\n",
    "df = pd.DataFrame(\n",
    "    Valores,\n",
    "    columns = [\"Altura\", \"Mascotas\", \"Peso\"],\n",
    "    index = [\"Jocelin\", \"Emilio\", \"Anel\"]\n",
    ")\n",
    "\n",
    "df\n"
   ]
  },
  {
   "cell_type": "code",
   "execution_count": 20,
   "id": "38d23aa4-6298-4925-b1b7-873228b13b51",
   "metadata": {},
   "outputs": [
    {
     "data": {
      "text/html": [
       "<div>\n",
       "<style scoped>\n",
       "    .dataframe tbody tr th:only-of-type {\n",
       "        vertical-align: middle;\n",
       "    }\n",
       "\n",
       "    .dataframe tbody tr th {\n",
       "        vertical-align: top;\n",
       "    }\n",
       "\n",
       "    .dataframe thead th {\n",
       "        text-align: right;\n",
       "    }\n",
       "</style>\n",
       "<table border=\"1\" class=\"dataframe\">\n",
       "  <thead>\n",
       "    <tr style=\"text-align: right;\">\n",
       "      <th></th>\n",
       "      <th>Peso</th>\n",
       "      <th>Altura</th>\n",
       "    </tr>\n",
       "  </thead>\n",
       "  <tbody>\n",
       "    <tr>\n",
       "      <th>Emilio</th>\n",
       "      <td>72</td>\n",
       "      <td>169</td>\n",
       "    </tr>\n",
       "    <tr>\n",
       "      <th>Anel</th>\n",
       "      <td>60</td>\n",
       "      <td>145</td>\n",
       "    </tr>\n",
       "    <tr>\n",
       "      <th>Chucho</th>\n",
       "      <td>74</td>\n",
       "      <td>170</td>\n",
       "    </tr>\n",
       "    <tr>\n",
       "      <th>Jocelin</th>\n",
       "      <td>73</td>\n",
       "      <td>170</td>\n",
       "    </tr>\n",
       "  </tbody>\n",
       "</table>\n",
       "</div>"
      ],
      "text/plain": [
       "         Peso  Altura\n",
       "Emilio     72     169\n",
       "Anel       60     145\n",
       "Chucho     74     170\n",
       "Jocelin    73     170"
      ]
     },
     "execution_count": 20,
     "metadata": {},
     "output_type": "execute_result"
    }
   ],
   "source": [
    "# Creacion de un DataFrame e inicializarlo con un diccionario de Python.\n",
    "Personas = {\n",
    "    \"Peso\": {\"Emilio\": 72, \"Anel\": 60, \"Chucho\": 74, \"Jocelin\": 73},\n",
    "    \"Altura\": {\"Emilio\": 169, \"Anel\": 145, \"Chucho\": 170, \"Jocelin\": 170}\n",
    "}\n",
    "\n",
    "df= pd.DataFrame(Personas)\n",
    "df"
   ]
  },
  {
   "cell_type": "markdown",
   "id": "25ef9fe3-4688-47f4-9b02-1ae7a3791b2b",
   "metadata": {},
   "source": [
    "## Acceso a los elementos de un DataFrame"
   ]
  },
  {
   "cell_type": "code",
   "execution_count": 21,
   "id": "c36dc8b1-f1b7-4f12-ba75-092f85cd2c69",
   "metadata": {},
   "outputs": [
    {
     "data": {
      "text/html": [
       "<div>\n",
       "<style scoped>\n",
       "    .dataframe tbody tr th:only-of-type {\n",
       "        vertical-align: middle;\n",
       "    }\n",
       "\n",
       "    .dataframe tbody tr th {\n",
       "        vertical-align: top;\n",
       "    }\n",
       "\n",
       "    .dataframe thead th {\n",
       "        text-align: right;\n",
       "    }\n",
       "</style>\n",
       "<table border=\"1\" class=\"dataframe\">\n",
       "  <thead>\n",
       "    <tr style=\"text-align: right;\">\n",
       "      <th></th>\n",
       "      <th>Peso</th>\n",
       "      <th>Altura</th>\n",
       "      <th>Mascotas</th>\n",
       "    </tr>\n",
       "  </thead>\n",
       "  <tbody>\n",
       "    <tr>\n",
       "      <th>Anel</th>\n",
       "      <td>60</td>\n",
       "      <td>145</td>\n",
       "      <td>2.0</td>\n",
       "    </tr>\n",
       "    <tr>\n",
       "      <th>Chucho</th>\n",
       "      <td>74</td>\n",
       "      <td>170</td>\n",
       "      <td>NaN</td>\n",
       "    </tr>\n",
       "    <tr>\n",
       "      <th>Emilio</th>\n",
       "      <td>72</td>\n",
       "      <td>169</td>\n",
       "      <td>NaN</td>\n",
       "    </tr>\n",
       "    <tr>\n",
       "      <th>Jocelin</th>\n",
       "      <td>73</td>\n",
       "      <td>170</td>\n",
       "      <td>9.0</td>\n",
       "    </tr>\n",
       "  </tbody>\n",
       "</table>\n",
       "</div>"
      ],
      "text/plain": [
       "         Peso  Altura  Mascotas\n",
       "Anel       60     145       2.0\n",
       "Chucho     74     170       NaN\n",
       "Emilio     72     169       NaN\n",
       "Jocelin    73     170       9.0"
      ]
     },
     "execution_count": 21,
     "metadata": {},
     "output_type": "execute_result"
    }
   ],
   "source": [
    "# Creacion de un DataFrame e inicializarlo con un diccionario de Python.\n",
    "Personas = {\n",
    "    \"Peso\": pd.Series([72, 60, 74, 73], [\"Emilio\", \"Anel\", \"Chucho\", \"Jocelin\"]),\n",
    "    \"Altura\": pd.Series({\"Emilio\": 169, \"Anel\": 145, \"Chucho\": 170, \"Jocelin\": 170}),\n",
    "    \"Mascotas\": pd.Series([2, 9], [\"Anel\", \"Jocelin\"])\n",
    "}\n",
    "\n",
    "df = pd.DataFrame(Personas)\n",
    "df"
   ]
  },
  {
   "cell_type": "markdown",
   "id": "93d553f6-9856-4f75-837b-0b4fd5db31f6",
   "metadata": {},
   "source": [
    "## Acceso a los elementos de las columnas del DataFrame"
   ]
  },
  {
   "cell_type": "code",
   "execution_count": 22,
   "id": "1c58da99-0a00-44ca-8019-a5f4ef212ba2",
   "metadata": {},
   "outputs": [
    {
     "data": {
      "text/plain": [
       "Anel       60\n",
       "Chucho     74\n",
       "Emilio     72\n",
       "Jocelin    73\n",
       "Name: Peso, dtype: int64"
      ]
     },
     "execution_count": 22,
     "metadata": {},
     "output_type": "execute_result"
    }
   ],
   "source": [
    "df[\"Peso\"]"
   ]
  },
  {
   "cell_type": "code",
   "execution_count": 23,
   "id": "c2b463be-b190-4a8a-9ce9-fe7ff1308ca4",
   "metadata": {},
   "outputs": [
    {
     "data": {
      "text/html": [
       "<div>\n",
       "<style scoped>\n",
       "    .dataframe tbody tr th:only-of-type {\n",
       "        vertical-align: middle;\n",
       "    }\n",
       "\n",
       "    .dataframe tbody tr th {\n",
       "        vertical-align: top;\n",
       "    }\n",
       "\n",
       "    .dataframe thead th {\n",
       "        text-align: right;\n",
       "    }\n",
       "</style>\n",
       "<table border=\"1\" class=\"dataframe\">\n",
       "  <thead>\n",
       "    <tr style=\"text-align: right;\">\n",
       "      <th></th>\n",
       "      <th>Peso</th>\n",
       "      <th>Altura</th>\n",
       "    </tr>\n",
       "  </thead>\n",
       "  <tbody>\n",
       "    <tr>\n",
       "      <th>Anel</th>\n",
       "      <td>60</td>\n",
       "      <td>145</td>\n",
       "    </tr>\n",
       "    <tr>\n",
       "      <th>Chucho</th>\n",
       "      <td>74</td>\n",
       "      <td>170</td>\n",
       "    </tr>\n",
       "    <tr>\n",
       "      <th>Emilio</th>\n",
       "      <td>72</td>\n",
       "      <td>169</td>\n",
       "    </tr>\n",
       "    <tr>\n",
       "      <th>Jocelin</th>\n",
       "      <td>73</td>\n",
       "      <td>170</td>\n",
       "    </tr>\n",
       "  </tbody>\n",
       "</table>\n",
       "</div>"
      ],
      "text/plain": [
       "         Peso  Altura\n",
       "Anel       60     145\n",
       "Chucho     74     170\n",
       "Emilio     72     169\n",
       "Jocelin    73     170"
      ]
     },
     "execution_count": 23,
     "metadata": {},
     "output_type": "execute_result"
    }
   ],
   "source": [
    "df[[\"Peso\", \"Altura\"]]"
   ]
  },
  {
   "cell_type": "code",
   "execution_count": 24,
   "id": "4d1b86af-f374-4e59-9e02-0ce61d550f7b",
   "metadata": {},
   "outputs": [
    {
     "data": {
      "text/plain": [
       "Anel       False\n",
       "Chucho      True\n",
       "Emilio     False\n",
       "Jocelin    False\n",
       "Name: Peso, dtype: bool"
      ]
     },
     "execution_count": 24,
     "metadata": {},
     "output_type": "execute_result"
    }
   ],
   "source": [
    "# Pueden combinarse los elementos anteriores con expresiones booleanas\n",
    "df[\"Peso\"] > 73"
   ]
  },
  {
   "cell_type": "code",
   "execution_count": 25,
   "id": "dc971697-6879-44e9-be8e-a82dcfa21c8c",
   "metadata": {},
   "outputs": [
    {
     "data": {
      "text/html": [
       "<div>\n",
       "<style scoped>\n",
       "    .dataframe tbody tr th:only-of-type {\n",
       "        vertical-align: middle;\n",
       "    }\n",
       "\n",
       "    .dataframe tbody tr th {\n",
       "        vertical-align: top;\n",
       "    }\n",
       "\n",
       "    .dataframe thead th {\n",
       "        text-align: right;\n",
       "    }\n",
       "</style>\n",
       "<table border=\"1\" class=\"dataframe\">\n",
       "  <thead>\n",
       "    <tr style=\"text-align: right;\">\n",
       "      <th></th>\n",
       "      <th>Peso</th>\n",
       "      <th>Altura</th>\n",
       "      <th>Mascotas</th>\n",
       "    </tr>\n",
       "  </thead>\n",
       "  <tbody>\n",
       "    <tr>\n",
       "      <th>Chucho</th>\n",
       "      <td>74</td>\n",
       "      <td>170</td>\n",
       "      <td>NaN</td>\n",
       "    </tr>\n",
       "    <tr>\n",
       "      <th>Jocelin</th>\n",
       "      <td>73</td>\n",
       "      <td>170</td>\n",
       "      <td>9.0</td>\n",
       "    </tr>\n",
       "  </tbody>\n",
       "</table>\n",
       "</div>"
      ],
      "text/plain": [
       "         Peso  Altura  Mascotas\n",
       "Chucho     74     170       NaN\n",
       "Jocelin    73     170       9.0"
      ]
     },
     "execution_count": 25,
     "metadata": {},
     "output_type": "execute_result"
    }
   ],
   "source": [
    "# Pueden combinarse los metodos anteriores con expresiones booleanas y mostrar el DataFrame\n",
    "df[df[\"Peso\"]>72]"
   ]
  },
  {
   "cell_type": "markdown",
   "id": "823fea46-9979-4da9-b28c-1760ab9afa6d",
   "metadata": {},
   "source": [
    "## Accediendo a los elementos de las filas del DataFrame"
   ]
  },
  {
   "cell_type": "code",
   "execution_count": 26,
   "id": "1a65182d-ec09-45d4-a0d4-87eb29a9141a",
   "metadata": {},
   "outputs": [
    {
     "data": {
      "text/html": [
       "<div>\n",
       "<style scoped>\n",
       "    .dataframe tbody tr th:only-of-type {\n",
       "        vertical-align: middle;\n",
       "    }\n",
       "\n",
       "    .dataframe tbody tr th {\n",
       "        vertical-align: top;\n",
       "    }\n",
       "\n",
       "    .dataframe thead th {\n",
       "        text-align: right;\n",
       "    }\n",
       "</style>\n",
       "<table border=\"1\" class=\"dataframe\">\n",
       "  <thead>\n",
       "    <tr style=\"text-align: right;\">\n",
       "      <th></th>\n",
       "      <th>Peso</th>\n",
       "      <th>Altura</th>\n",
       "      <th>Mascotas</th>\n",
       "    </tr>\n",
       "  </thead>\n",
       "  <tbody>\n",
       "    <tr>\n",
       "      <th>Anel</th>\n",
       "      <td>60</td>\n",
       "      <td>145</td>\n",
       "      <td>2.0</td>\n",
       "    </tr>\n",
       "    <tr>\n",
       "      <th>Chucho</th>\n",
       "      <td>74</td>\n",
       "      <td>170</td>\n",
       "      <td>NaN</td>\n",
       "    </tr>\n",
       "    <tr>\n",
       "      <th>Emilio</th>\n",
       "      <td>72</td>\n",
       "      <td>169</td>\n",
       "      <td>NaN</td>\n",
       "    </tr>\n",
       "    <tr>\n",
       "      <th>Jocelin</th>\n",
       "      <td>73</td>\n",
       "      <td>170</td>\n",
       "      <td>9.0</td>\n",
       "    </tr>\n",
       "  </tbody>\n",
       "</table>\n",
       "</div>"
      ],
      "text/plain": [
       "         Peso  Altura  Mascotas\n",
       "Anel       60     145       2.0\n",
       "Chucho     74     170       NaN\n",
       "Emilio     72     169       NaN\n",
       "Jocelin    73     170       9.0"
      ]
     },
     "execution_count": 26,
     "metadata": {},
     "output_type": "execute_result"
    }
   ],
   "source": [
    "# Mostrar el DataFrame\n",
    "df"
   ]
  },
  {
   "cell_type": "code",
   "execution_count": 27,
   "id": "c855965a-481c-4c8f-be22-d2cda43fa859",
   "metadata": {},
   "outputs": [
    {
     "data": {
      "text/plain": [
       "Peso         72.0\n",
       "Altura      169.0\n",
       "Mascotas      NaN\n",
       "Name: Emilio, dtype: float64"
      ]
     },
     "execution_count": 27,
     "metadata": {},
     "output_type": "execute_result"
    }
   ],
   "source": [
    "df.loc[\"Emilio\"]"
   ]
  },
  {
   "cell_type": "code",
   "execution_count": 28,
   "id": "1513b505-3971-4460-b991-fe68241dc6b9",
   "metadata": {},
   "outputs": [
    {
     "data": {
      "text/html": [
       "<div>\n",
       "<style scoped>\n",
       "    .dataframe tbody tr th:only-of-type {\n",
       "        vertical-align: middle;\n",
       "    }\n",
       "\n",
       "    .dataframe tbody tr th {\n",
       "        vertical-align: top;\n",
       "    }\n",
       "\n",
       "    .dataframe thead th {\n",
       "        text-align: right;\n",
       "    }\n",
       "</style>\n",
       "<table border=\"1\" class=\"dataframe\">\n",
       "  <thead>\n",
       "    <tr style=\"text-align: right;\">\n",
       "      <th></th>\n",
       "      <th>Peso</th>\n",
       "      <th>Altura</th>\n",
       "      <th>Mascotas</th>\n",
       "    </tr>\n",
       "  </thead>\n",
       "  <tbody>\n",
       "    <tr>\n",
       "      <th>Chucho</th>\n",
       "      <td>74</td>\n",
       "      <td>170</td>\n",
       "      <td>NaN</td>\n",
       "    </tr>\n",
       "    <tr>\n",
       "      <th>Emilio</th>\n",
       "      <td>72</td>\n",
       "      <td>169</td>\n",
       "      <td>NaN</td>\n",
       "    </tr>\n",
       "  </tbody>\n",
       "</table>\n",
       "</div>"
      ],
      "text/plain": [
       "        Peso  Altura  Mascotas\n",
       "Chucho    74     170       NaN\n",
       "Emilio    72     169       NaN"
      ]
     },
     "execution_count": 28,
     "metadata": {},
     "output_type": "execute_result"
    }
   ],
   "source": [
    "df.iloc[1:3]"
   ]
  },
  {
   "cell_type": "markdown",
   "id": "37335ba0-c41d-43b2-af70-2cacecf398ca",
   "metadata": {},
   "source": [
    "## Consulta Avanzada de los elementos de un DataFrame"
   ]
  },
  {
   "cell_type": "code",
   "execution_count": 29,
   "id": "3b8b1dc2-2608-464f-862c-db3cb215212f",
   "metadata": {},
   "outputs": [
    {
     "data": {
      "text/html": [
       "<div>\n",
       "<style scoped>\n",
       "    .dataframe tbody tr th:only-of-type {\n",
       "        vertical-align: middle;\n",
       "    }\n",
       "\n",
       "    .dataframe tbody tr th {\n",
       "        vertical-align: top;\n",
       "    }\n",
       "\n",
       "    .dataframe thead th {\n",
       "        text-align: right;\n",
       "    }\n",
       "</style>\n",
       "<table border=\"1\" class=\"dataframe\">\n",
       "  <thead>\n",
       "    <tr style=\"text-align: right;\">\n",
       "      <th></th>\n",
       "      <th>Peso</th>\n",
       "      <th>Altura</th>\n",
       "      <th>Mascotas</th>\n",
       "    </tr>\n",
       "  </thead>\n",
       "  <tbody>\n",
       "    <tr>\n",
       "      <th>Anel</th>\n",
       "      <td>60</td>\n",
       "      <td>145</td>\n",
       "      <td>2.0</td>\n",
       "    </tr>\n",
       "    <tr>\n",
       "      <th>Chucho</th>\n",
       "      <td>74</td>\n",
       "      <td>170</td>\n",
       "      <td>NaN</td>\n",
       "    </tr>\n",
       "    <tr>\n",
       "      <th>Emilio</th>\n",
       "      <td>72</td>\n",
       "      <td>169</td>\n",
       "      <td>NaN</td>\n",
       "    </tr>\n",
       "    <tr>\n",
       "      <th>Jocelin</th>\n",
       "      <td>73</td>\n",
       "      <td>170</td>\n",
       "      <td>9.0</td>\n",
       "    </tr>\n",
       "  </tbody>\n",
       "</table>\n",
       "</div>"
      ],
      "text/plain": [
       "         Peso  Altura  Mascotas\n",
       "Anel       60     145       2.0\n",
       "Chucho     74     170       NaN\n",
       "Emilio     72     169       NaN\n",
       "Jocelin    73     170       9.0"
      ]
     },
     "execution_count": 29,
     "metadata": {},
     "output_type": "execute_result"
    }
   ],
   "source": [
    "# Mostrar el DataFrame\n",
    "df"
   ]
  },
  {
   "cell_type": "code",
   "execution_count": 30,
   "id": "49ae7e4d-6e42-4ae9-9246-b63b40611726",
   "metadata": {},
   "outputs": [
    {
     "data": {
      "text/html": [
       "<div>\n",
       "<style scoped>\n",
       "    .dataframe tbody tr th:only-of-type {\n",
       "        vertical-align: middle;\n",
       "    }\n",
       "\n",
       "    .dataframe tbody tr th {\n",
       "        vertical-align: top;\n",
       "    }\n",
       "\n",
       "    .dataframe thead th {\n",
       "        text-align: right;\n",
       "    }\n",
       "</style>\n",
       "<table border=\"1\" class=\"dataframe\">\n",
       "  <thead>\n",
       "    <tr style=\"text-align: right;\">\n",
       "      <th></th>\n",
       "      <th>Peso</th>\n",
       "      <th>Altura</th>\n",
       "      <th>Mascotas</th>\n",
       "    </tr>\n",
       "  </thead>\n",
       "  <tbody>\n",
       "    <tr>\n",
       "      <th>Chucho</th>\n",
       "      <td>74</td>\n",
       "      <td>170</td>\n",
       "      <td>NaN</td>\n",
       "    </tr>\n",
       "    <tr>\n",
       "      <th>Jocelin</th>\n",
       "      <td>73</td>\n",
       "      <td>170</td>\n",
       "      <td>9.0</td>\n",
       "    </tr>\n",
       "  </tbody>\n",
       "</table>\n",
       "</div>"
      ],
      "text/plain": [
       "         Peso  Altura  Mascotas\n",
       "Chucho     74     170       NaN\n",
       "Jocelin    73     170       9.0"
      ]
     },
     "execution_count": 30,
     "metadata": {},
     "output_type": "execute_result"
    }
   ],
   "source": [
    "df.query(\"Altura >=170 and Peso >= 73\")"
   ]
  },
  {
   "cell_type": "markdown",
   "id": "19d77804-5a0b-4571-99b4-46df0b602e26",
   "metadata": {},
   "source": [
    "## Copiar un DataFrame\n",
    "\n"
   ]
  },
  {
   "cell_type": "code",
   "execution_count": 31,
   "id": "966674ce-acf9-4f67-b1d0-c2e8cb207f4c",
   "metadata": {},
   "outputs": [
    {
     "data": {
      "text/html": [
       "<div>\n",
       "<style scoped>\n",
       "    .dataframe tbody tr th:only-of-type {\n",
       "        vertical-align: middle;\n",
       "    }\n",
       "\n",
       "    .dataframe tbody tr th {\n",
       "        vertical-align: top;\n",
       "    }\n",
       "\n",
       "    .dataframe thead th {\n",
       "        text-align: right;\n",
       "    }\n",
       "</style>\n",
       "<table border=\"1\" class=\"dataframe\">\n",
       "  <thead>\n",
       "    <tr style=\"text-align: right;\">\n",
       "      <th></th>\n",
       "      <th>Peso</th>\n",
       "      <th>Altura</th>\n",
       "      <th>Mascotas</th>\n",
       "    </tr>\n",
       "  </thead>\n",
       "  <tbody>\n",
       "    <tr>\n",
       "      <th>Anel</th>\n",
       "      <td>60</td>\n",
       "      <td>145</td>\n",
       "      <td>2.0</td>\n",
       "    </tr>\n",
       "    <tr>\n",
       "      <th>Chucho</th>\n",
       "      <td>74</td>\n",
       "      <td>170</td>\n",
       "      <td>NaN</td>\n",
       "    </tr>\n",
       "    <tr>\n",
       "      <th>Emilio</th>\n",
       "      <td>72</td>\n",
       "      <td>169</td>\n",
       "      <td>NaN</td>\n",
       "    </tr>\n",
       "    <tr>\n",
       "      <th>Jocelin</th>\n",
       "      <td>73</td>\n",
       "      <td>170</td>\n",
       "      <td>9.0</td>\n",
       "    </tr>\n",
       "  </tbody>\n",
       "</table>\n",
       "</div>"
      ],
      "text/plain": [
       "         Peso  Altura  Mascotas\n",
       "Anel       60     145       2.0\n",
       "Chucho     74     170       NaN\n",
       "Emilio     72     169       NaN\n",
       "Jocelin    73     170       9.0"
      ]
     },
     "execution_count": 31,
     "metadata": {},
     "output_type": "execute_result"
    }
   ],
   "source": [
    "# Crear un DataFrame e inicializarlo con un Diccionario de Objetos Series\n",
    "Personas = {\n",
    "    \"Peso\": pd.Series([72, 60, 74, 73], [\"Emilio\", \"Anel\", \"Chucho\", \"Jocelin\"]),\n",
    "    \"Altura\": pd.Series({\"Emilio\": 169, \"Anel\": 145, \"Chucho\": 170, \"Jocelin\": 170}),\n",
    "    \"Mascotas\": pd.Series([2, 9], [\"Anel\", \"Jocelin\"])\n",
    "}\n",
    "\n",
    "df = pd.DataFrame(Personas)\n",
    "df\n"
   ]
  },
  {
   "cell_type": "code",
   "execution_count": 32,
   "id": "765b7678-c574-4e31-9016-9ba6fbc0d275",
   "metadata": {},
   "outputs": [],
   "source": [
    "# Copia del DtaFrame df en df_copy\n",
    "#NOTA: Al modificar el elemento de un df_copy, no se modificaen df.\n",
    "df_copy = df.copy()\n"
   ]
  },
  {
   "cell_type": "markdown",
   "id": "9f23cefe-1724-4a94-8522-076059f5ca47",
   "metadata": {},
   "source": [
    "## Modificacion de un DataFrame"
   ]
  },
  {
   "cell_type": "code",
   "execution_count": null,
   "id": "fa615071-88f1-4b0b-ae4d-a0607025fa7c",
   "metadata": {},
   "outputs": [],
   "source": []
  },
  {
   "cell_type": "code",
   "execution_count": 33,
   "id": "e7d21cfd-3253-4d29-bb54-0d745e05cbd2",
   "metadata": {},
   "outputs": [
    {
     "data": {
      "text/html": [
       "<div>\n",
       "<style scoped>\n",
       "    .dataframe tbody tr th:only-of-type {\n",
       "        vertical-align: middle;\n",
       "    }\n",
       "\n",
       "    .dataframe tbody tr th {\n",
       "        vertical-align: top;\n",
       "    }\n",
       "\n",
       "    .dataframe thead th {\n",
       "        text-align: right;\n",
       "    }\n",
       "</style>\n",
       "<table border=\"1\" class=\"dataframe\">\n",
       "  <thead>\n",
       "    <tr style=\"text-align: right;\">\n",
       "      <th></th>\n",
       "      <th>Peso</th>\n",
       "      <th>Altura</th>\n",
       "      <th>Mascotas</th>\n",
       "      <th>Anio_Nac</th>\n",
       "    </tr>\n",
       "  </thead>\n",
       "  <tbody>\n",
       "    <tr>\n",
       "      <th>Anel</th>\n",
       "      <td>60</td>\n",
       "      <td>145</td>\n",
       "      <td>2.0</td>\n",
       "      <td>2004</td>\n",
       "    </tr>\n",
       "    <tr>\n",
       "      <th>Chucho</th>\n",
       "      <td>74</td>\n",
       "      <td>170</td>\n",
       "      <td>NaN</td>\n",
       "      <td>2004</td>\n",
       "    </tr>\n",
       "    <tr>\n",
       "      <th>Emilio</th>\n",
       "      <td>72</td>\n",
       "      <td>169</td>\n",
       "      <td>NaN</td>\n",
       "      <td>2004</td>\n",
       "    </tr>\n",
       "    <tr>\n",
       "      <th>Jocelin</th>\n",
       "      <td>73</td>\n",
       "      <td>170</td>\n",
       "      <td>9.0</td>\n",
       "      <td>2004</td>\n",
       "    </tr>\n",
       "  </tbody>\n",
       "</table>\n",
       "</div>"
      ],
      "text/plain": [
       "         Peso  Altura  Mascotas  Anio_Nac\n",
       "Anel       60     145       2.0      2004\n",
       "Chucho     74     170       NaN      2004\n",
       "Emilio     72     169       NaN      2004\n",
       "Jocelin    73     170       9.0      2004"
      ]
     },
     "execution_count": 33,
     "metadata": {},
     "output_type": "execute_result"
    }
   ],
   "source": [
    "# Añadir una nueva columna al DataFrame\n",
    "df[\"Anio_Nac\"]= [2004, 2004, 2004, 2004]\n",
    "df"
   ]
  },
  {
   "cell_type": "code",
   "execution_count": 34,
   "id": "10115293-a8cf-42eb-949c-1cd1df8eebd7",
   "metadata": {},
   "outputs": [
    {
     "data": {
      "text/html": [
       "<div>\n",
       "<style scoped>\n",
       "    .dataframe tbody tr th:only-of-type {\n",
       "        vertical-align: middle;\n",
       "    }\n",
       "\n",
       "    .dataframe tbody tr th {\n",
       "        vertical-align: top;\n",
       "    }\n",
       "\n",
       "    .dataframe thead th {\n",
       "        text-align: right;\n",
       "    }\n",
       "</style>\n",
       "<table border=\"1\" class=\"dataframe\">\n",
       "  <thead>\n",
       "    <tr style=\"text-align: right;\">\n",
       "      <th></th>\n",
       "      <th>Peso</th>\n",
       "      <th>Altura</th>\n",
       "      <th>Mascotas</th>\n",
       "      <th>Anio_Nac</th>\n",
       "      <th>Edad</th>\n",
       "    </tr>\n",
       "  </thead>\n",
       "  <tbody>\n",
       "    <tr>\n",
       "      <th>Anel</th>\n",
       "      <td>60</td>\n",
       "      <td>145</td>\n",
       "      <td>2.0</td>\n",
       "      <td>2004</td>\n",
       "      <td>20</td>\n",
       "    </tr>\n",
       "    <tr>\n",
       "      <th>Chucho</th>\n",
       "      <td>74</td>\n",
       "      <td>170</td>\n",
       "      <td>NaN</td>\n",
       "      <td>2004</td>\n",
       "      <td>20</td>\n",
       "    </tr>\n",
       "    <tr>\n",
       "      <th>Emilio</th>\n",
       "      <td>72</td>\n",
       "      <td>169</td>\n",
       "      <td>NaN</td>\n",
       "      <td>2004</td>\n",
       "      <td>20</td>\n",
       "    </tr>\n",
       "    <tr>\n",
       "      <th>Jocelin</th>\n",
       "      <td>73</td>\n",
       "      <td>170</td>\n",
       "      <td>9.0</td>\n",
       "      <td>2004</td>\n",
       "      <td>20</td>\n",
       "    </tr>\n",
       "  </tbody>\n",
       "</table>\n",
       "</div>"
      ],
      "text/plain": [
       "         Peso  Altura  Mascotas  Anio_Nac  Edad\n",
       "Anel       60     145       2.0      2004    20\n",
       "Chucho     74     170       NaN      2004    20\n",
       "Emilio     72     169       NaN      2004    20\n",
       "Jocelin    73     170       9.0      2004    20"
      ]
     },
     "execution_count": 34,
     "metadata": {},
     "output_type": "execute_result"
    }
   ],
   "source": [
    "# Añadir una nueva columna añadida al DataFrame\n",
    "df[\"Edad\"] = 2024 - df[\"Anio_Nac\"]\n",
    "df"
   ]
  },
  {
   "cell_type": "code",
   "execution_count": 35,
   "id": "18d9efa8-7a02-47f6-a0c1-2aa5e0c07057",
   "metadata": {},
   "outputs": [],
   "source": [
    "# Añadir una nueva columna creando un DataFrame nuevo.\n",
    "df_mod = df.assign(Hijos = [2, 1, 2, 1])\n"
   ]
  },
  {
   "cell_type": "code",
   "execution_count": 36,
   "id": "996e5d1f-f068-44c8-946b-609650cc7082",
   "metadata": {},
   "outputs": [
    {
     "data": {
      "text/html": [
       "<div>\n",
       "<style scoped>\n",
       "    .dataframe tbody tr th:only-of-type {\n",
       "        vertical-align: middle;\n",
       "    }\n",
       "\n",
       "    .dataframe tbody tr th {\n",
       "        vertical-align: top;\n",
       "    }\n",
       "\n",
       "    .dataframe thead th {\n",
       "        text-align: right;\n",
       "    }\n",
       "</style>\n",
       "<table border=\"1\" class=\"dataframe\">\n",
       "  <thead>\n",
       "    <tr style=\"text-align: right;\">\n",
       "      <th></th>\n",
       "      <th>Peso</th>\n",
       "      <th>Altura</th>\n",
       "      <th>Mascotas</th>\n",
       "      <th>Anio_Nac</th>\n",
       "      <th>Edad</th>\n",
       "      <th>Hijos</th>\n",
       "    </tr>\n",
       "  </thead>\n",
       "  <tbody>\n",
       "    <tr>\n",
       "      <th>Anel</th>\n",
       "      <td>60</td>\n",
       "      <td>145</td>\n",
       "      <td>2.0</td>\n",
       "      <td>2004</td>\n",
       "      <td>20</td>\n",
       "      <td>2</td>\n",
       "    </tr>\n",
       "    <tr>\n",
       "      <th>Chucho</th>\n",
       "      <td>74</td>\n",
       "      <td>170</td>\n",
       "      <td>NaN</td>\n",
       "      <td>2004</td>\n",
       "      <td>20</td>\n",
       "      <td>1</td>\n",
       "    </tr>\n",
       "    <tr>\n",
       "      <th>Emilio</th>\n",
       "      <td>72</td>\n",
       "      <td>169</td>\n",
       "      <td>NaN</td>\n",
       "      <td>2004</td>\n",
       "      <td>20</td>\n",
       "      <td>2</td>\n",
       "    </tr>\n",
       "    <tr>\n",
       "      <th>Jocelin</th>\n",
       "      <td>73</td>\n",
       "      <td>170</td>\n",
       "      <td>9.0</td>\n",
       "      <td>2004</td>\n",
       "      <td>20</td>\n",
       "      <td>1</td>\n",
       "    </tr>\n",
       "  </tbody>\n",
       "</table>\n",
       "</div>"
      ],
      "text/plain": [
       "         Peso  Altura  Mascotas  Anio_Nac  Edad  Hijos\n",
       "Anel       60     145       2.0      2004    20      2\n",
       "Chucho     74     170       NaN      2004    20      1\n",
       "Emilio     72     169       NaN      2004    20      2\n",
       "Jocelin    73     170       9.0      2004    20      1"
      ]
     },
     "execution_count": 36,
     "metadata": {},
     "output_type": "execute_result"
    }
   ],
   "source": [
    "df_mod"
   ]
  },
  {
   "cell_type": "code",
   "execution_count": 37,
   "id": "c22b5c0e-6197-48b8-a0e9-6950a9289b49",
   "metadata": {},
   "outputs": [
    {
     "data": {
      "text/html": [
       "<div>\n",
       "<style scoped>\n",
       "    .dataframe tbody tr th:only-of-type {\n",
       "        vertical-align: middle;\n",
       "    }\n",
       "\n",
       "    .dataframe tbody tr th {\n",
       "        vertical-align: top;\n",
       "    }\n",
       "\n",
       "    .dataframe thead th {\n",
       "        text-align: right;\n",
       "    }\n",
       "</style>\n",
       "<table border=\"1\" class=\"dataframe\">\n",
       "  <thead>\n",
       "    <tr style=\"text-align: right;\">\n",
       "      <th></th>\n",
       "      <th>Peso</th>\n",
       "      <th>Altura</th>\n",
       "      <th>Mascotas</th>\n",
       "      <th>Anio_Nac</th>\n",
       "      <th>Edad</th>\n",
       "    </tr>\n",
       "  </thead>\n",
       "  <tbody>\n",
       "    <tr>\n",
       "      <th>Anel</th>\n",
       "      <td>60</td>\n",
       "      <td>145</td>\n",
       "      <td>2.0</td>\n",
       "      <td>2004</td>\n",
       "      <td>20</td>\n",
       "    </tr>\n",
       "    <tr>\n",
       "      <th>Chucho</th>\n",
       "      <td>74</td>\n",
       "      <td>170</td>\n",
       "      <td>NaN</td>\n",
       "      <td>2004</td>\n",
       "      <td>20</td>\n",
       "    </tr>\n",
       "    <tr>\n",
       "      <th>Emilio</th>\n",
       "      <td>72</td>\n",
       "      <td>169</td>\n",
       "      <td>NaN</td>\n",
       "      <td>2004</td>\n",
       "      <td>20</td>\n",
       "    </tr>\n",
       "    <tr>\n",
       "      <th>Jocelin</th>\n",
       "      <td>73</td>\n",
       "      <td>170</td>\n",
       "      <td>9.0</td>\n",
       "      <td>2004</td>\n",
       "      <td>20</td>\n",
       "    </tr>\n",
       "  </tbody>\n",
       "</table>\n",
       "</div>"
      ],
      "text/plain": [
       "         Peso  Altura  Mascotas  Anio_Nac  Edad\n",
       "Anel       60     145       2.0      2004    20\n",
       "Chucho     74     170       NaN      2004    20\n",
       "Emilio     72     169       NaN      2004    20\n",
       "Jocelin    73     170       9.0      2004    20"
      ]
     },
     "execution_count": 37,
     "metadata": {},
     "output_type": "execute_result"
    }
   ],
   "source": [
    "df"
   ]
  },
  {
   "cell_type": "code",
   "execution_count": 38,
   "id": "4ca9fc10-7c79-4c90-a5d2-e7df9679e43e",
   "metadata": {},
   "outputs": [
    {
     "data": {
      "text/html": [
       "<div>\n",
       "<style scoped>\n",
       "    .dataframe tbody tr th:only-of-type {\n",
       "        vertical-align: middle;\n",
       "    }\n",
       "\n",
       "    .dataframe tbody tr th {\n",
       "        vertical-align: top;\n",
       "    }\n",
       "\n",
       "    .dataframe thead th {\n",
       "        text-align: right;\n",
       "    }\n",
       "</style>\n",
       "<table border=\"1\" class=\"dataframe\">\n",
       "  <thead>\n",
       "    <tr style=\"text-align: right;\">\n",
       "      <th></th>\n",
       "      <th>Altura</th>\n",
       "      <th>Mascotas</th>\n",
       "      <th>Anio_Nac</th>\n",
       "      <th>Edad</th>\n",
       "    </tr>\n",
       "  </thead>\n",
       "  <tbody>\n",
       "    <tr>\n",
       "      <th>Anel</th>\n",
       "      <td>145</td>\n",
       "      <td>2.0</td>\n",
       "      <td>2004</td>\n",
       "      <td>20</td>\n",
       "    </tr>\n",
       "    <tr>\n",
       "      <th>Chucho</th>\n",
       "      <td>170</td>\n",
       "      <td>NaN</td>\n",
       "      <td>2004</td>\n",
       "      <td>20</td>\n",
       "    </tr>\n",
       "    <tr>\n",
       "      <th>Emilio</th>\n",
       "      <td>169</td>\n",
       "      <td>NaN</td>\n",
       "      <td>2004</td>\n",
       "      <td>20</td>\n",
       "    </tr>\n",
       "    <tr>\n",
       "      <th>Jocelin</th>\n",
       "      <td>170</td>\n",
       "      <td>9.0</td>\n",
       "      <td>2004</td>\n",
       "      <td>20</td>\n",
       "    </tr>\n",
       "  </tbody>\n",
       "</table>\n",
       "</div>"
      ],
      "text/plain": [
       "         Altura  Mascotas  Anio_Nac  Edad\n",
       "Anel        145       2.0      2004    20\n",
       "Chucho      170       NaN      2004    20\n",
       "Emilio      169       NaN      2004    20\n",
       "Jocelin     170       9.0      2004    20"
      ]
     },
     "execution_count": 38,
     "metadata": {},
     "output_type": "execute_result"
    }
   ],
   "source": [
    "# Eliminar una columna existente del DataFrame\n",
    "del df[\"Peso\"]\n",
    "df"
   ]
  },
  {
   "cell_type": "code",
   "execution_count": 39,
   "id": "7e1f991c-48d2-4505-9bbd-b19227a8c57e",
   "metadata": {},
   "outputs": [
    {
     "data": {
      "text/html": [
       "<div>\n",
       "<style scoped>\n",
       "    .dataframe tbody tr th:only-of-type {\n",
       "        vertical-align: middle;\n",
       "    }\n",
       "\n",
       "    .dataframe tbody tr th {\n",
       "        vertical-align: top;\n",
       "    }\n",
       "\n",
       "    .dataframe thead th {\n",
       "        text-align: right;\n",
       "    }\n",
       "</style>\n",
       "<table border=\"1\" class=\"dataframe\">\n",
       "  <thead>\n",
       "    <tr style=\"text-align: right;\">\n",
       "      <th></th>\n",
       "      <th>Peso</th>\n",
       "      <th>Altura</th>\n",
       "      <th>Mascotas</th>\n",
       "      <th>Anio_Nac</th>\n",
       "      <th>Edad</th>\n",
       "    </tr>\n",
       "  </thead>\n",
       "  <tbody>\n",
       "    <tr>\n",
       "      <th>Anel</th>\n",
       "      <td>60</td>\n",
       "      <td>145</td>\n",
       "      <td>2.0</td>\n",
       "      <td>2004</td>\n",
       "      <td>20</td>\n",
       "    </tr>\n",
       "    <tr>\n",
       "      <th>Chucho</th>\n",
       "      <td>74</td>\n",
       "      <td>170</td>\n",
       "      <td>NaN</td>\n",
       "      <td>2004</td>\n",
       "      <td>20</td>\n",
       "    </tr>\n",
       "    <tr>\n",
       "      <th>Emilio</th>\n",
       "      <td>72</td>\n",
       "      <td>169</td>\n",
       "      <td>NaN</td>\n",
       "      <td>2004</td>\n",
       "      <td>20</td>\n",
       "    </tr>\n",
       "    <tr>\n",
       "      <th>Jocelin</th>\n",
       "      <td>73</td>\n",
       "      <td>170</td>\n",
       "      <td>9.0</td>\n",
       "      <td>2004</td>\n",
       "      <td>20</td>\n",
       "    </tr>\n",
       "  </tbody>\n",
       "</table>\n",
       "</div>"
      ],
      "text/plain": [
       "         Peso  Altura  Mascotas  Anio_Nac  Edad\n",
       "Anel       60     145       2.0      2004    20\n",
       "Chucho     74     170       NaN      2004    20\n",
       "Emilio     72     169       NaN      2004    20\n",
       "Jocelin    73     170       9.0      2004    20"
      ]
     },
     "execution_count": 39,
     "metadata": {},
     "output_type": "execute_result"
    }
   ],
   "source": [
    "# Eliminar una columna existente, devilviendo una copia del DataFrame resultante \n",
    "df_mod = df_mod.drop([\"Hijos\"], axis=1)\n",
    "df_mod"
   ]
  },
  {
   "cell_type": "code",
   "execution_count": 40,
   "id": "2eba5513-af00-454c-b7ea-fea2c8e46089",
   "metadata": {},
   "outputs": [
    {
     "data": {
      "text/html": [
       "<div>\n",
       "<style scoped>\n",
       "    .dataframe tbody tr th:only-of-type {\n",
       "        vertical-align: middle;\n",
       "    }\n",
       "\n",
       "    .dataframe tbody tr th {\n",
       "        vertical-align: top;\n",
       "    }\n",
       "\n",
       "    .dataframe thead th {\n",
       "        text-align: right;\n",
       "    }\n",
       "</style>\n",
       "<table border=\"1\" class=\"dataframe\">\n",
       "  <thead>\n",
       "    <tr style=\"text-align: right;\">\n",
       "      <th></th>\n",
       "      <th>Altura</th>\n",
       "      <th>Mascotas</th>\n",
       "      <th>Anio_Nac</th>\n",
       "      <th>Edad</th>\n",
       "    </tr>\n",
       "  </thead>\n",
       "  <tbody>\n",
       "    <tr>\n",
       "      <th>Anel</th>\n",
       "      <td>145</td>\n",
       "      <td>2.0</td>\n",
       "      <td>2004</td>\n",
       "      <td>20</td>\n",
       "    </tr>\n",
       "    <tr>\n",
       "      <th>Chucho</th>\n",
       "      <td>170</td>\n",
       "      <td>NaN</td>\n",
       "      <td>2004</td>\n",
       "      <td>20</td>\n",
       "    </tr>\n",
       "    <tr>\n",
       "      <th>Emilio</th>\n",
       "      <td>169</td>\n",
       "      <td>NaN</td>\n",
       "      <td>2004</td>\n",
       "      <td>20</td>\n",
       "    </tr>\n",
       "    <tr>\n",
       "      <th>Jocelin</th>\n",
       "      <td>170</td>\n",
       "      <td>9.0</td>\n",
       "      <td>2004</td>\n",
       "      <td>20</td>\n",
       "    </tr>\n",
       "  </tbody>\n",
       "</table>\n",
       "</div>"
      ],
      "text/plain": [
       "         Altura  Mascotas  Anio_Nac  Edad\n",
       "Anel        145       2.0      2004    20\n",
       "Chucho      170       NaN      2004    20\n",
       "Emilio      169       NaN      2004    20\n",
       "Jocelin     170       9.0      2004    20"
      ]
     },
     "execution_count": 40,
     "metadata": {},
     "output_type": "execute_result"
    }
   ],
   "source": [
    "df"
   ]
  },
  {
   "cell_type": "markdown",
   "id": "980cd91d-f699-4bbb-a5ca-33760932abcd",
   "metadata": {},
   "source": [
    "## Evaluacion de expresiones sobre un DataFrame.\n"
   ]
  },
  {
   "cell_type": "code",
   "execution_count": 41,
   "id": "4373fa61-70ee-4077-a8e0-343085df364a",
   "metadata": {},
   "outputs": [
    {
     "data": {
      "text/html": [
       "<div>\n",
       "<style scoped>\n",
       "    .dataframe tbody tr th:only-of-type {\n",
       "        vertical-align: middle;\n",
       "    }\n",
       "\n",
       "    .dataframe tbody tr th {\n",
       "        vertical-align: top;\n",
       "    }\n",
       "\n",
       "    .dataframe thead th {\n",
       "        text-align: right;\n",
       "    }\n",
       "</style>\n",
       "<table border=\"1\" class=\"dataframe\">\n",
       "  <thead>\n",
       "    <tr style=\"text-align: right;\">\n",
       "      <th></th>\n",
       "      <th>Peso</th>\n",
       "      <th>Altura</th>\n",
       "      <th>Mascotas</th>\n",
       "    </tr>\n",
       "  </thead>\n",
       "  <tbody>\n",
       "    <tr>\n",
       "      <th>Anel</th>\n",
       "      <td>60</td>\n",
       "      <td>145</td>\n",
       "      <td>2.0</td>\n",
       "    </tr>\n",
       "    <tr>\n",
       "      <th>Chucho</th>\n",
       "      <td>74</td>\n",
       "      <td>170</td>\n",
       "      <td>NaN</td>\n",
       "    </tr>\n",
       "    <tr>\n",
       "      <th>Emilio</th>\n",
       "      <td>72</td>\n",
       "      <td>169</td>\n",
       "      <td>NaN</td>\n",
       "    </tr>\n",
       "    <tr>\n",
       "      <th>Jocelin</th>\n",
       "      <td>73</td>\n",
       "      <td>170</td>\n",
       "      <td>9.0</td>\n",
       "    </tr>\n",
       "  </tbody>\n",
       "</table>\n",
       "</div>"
      ],
      "text/plain": [
       "         Peso  Altura  Mascotas\n",
       "Anel       60     145       2.0\n",
       "Chucho     74     170       NaN\n",
       "Emilio     72     169       NaN\n",
       "Jocelin    73     170       9.0"
      ]
     },
     "execution_count": 41,
     "metadata": {},
     "output_type": "execute_result"
    }
   ],
   "source": [
    "# Crear un DataFrame e inicializarlo con un diccionario de objetos Series\n",
    "Personas = {\n",
    "    \"Peso\": pd.Series([72, 60, 74, 73], [\"Emilio\", \"Anel\", \"Chucho\", \"Jocelin\"]),\n",
    "    \"Altura\": pd.Series({\"Emilio\": 169, \"Anel\": 145, \"Chucho\": 170, \"Jocelin\": 170}),\n",
    "    \"Mascotas\": pd.Series([2, 9], [\"Anel\", \"Jocelin\"])\n",
    "}\n",
    "\n",
    "df = pd.DataFrame(Personas)\n",
    "df"
   ]
  },
  {
   "cell_type": "code",
   "execution_count": 42,
   "id": "bfb6f966-c4c8-4529-9a04-3c1037db2062",
   "metadata": {},
   "outputs": [
    {
     "data": {
      "text/plain": [
       "Anel       72.5\n",
       "Chucho     85.0\n",
       "Emilio     84.5\n",
       "Jocelin    85.0\n",
       "Name: Altura, dtype: float64"
      ]
     },
     "execution_count": 42,
     "metadata": {},
     "output_type": "execute_result"
    }
   ],
   "source": [
    "# Evaluar una funcion sobre una columna del DataFrame.\n",
    "df.eval(\"Altura / 2\")"
   ]
  },
  {
   "cell_type": "code",
   "execution_count": 43,
   "id": "7b7938db-1724-4a5d-9fcc-239503bd7f50",
   "metadata": {},
   "outputs": [
    {
     "data": {
      "text/plain": [
       "Anel       False\n",
       "Chucho      True\n",
       "Emilio      True\n",
       "Jocelin     True\n",
       "Name: Altura, dtype: bool"
      ]
     },
     "execution_count": 43,
     "metadata": {},
     "output_type": "execute_result"
    }
   ],
   "source": [
    "# Evauar un función utlizando una variable local\n",
    "max_altura = 165\n",
    "df.eval(\"Altura > @max_altura\")"
   ]
  },
  {
   "cell_type": "code",
   "execution_count": 44,
   "id": "6d7620fc-9891-4976-8c2d-c67d41ef662f",
   "metadata": {},
   "outputs": [
    {
     "data": {
      "text/plain": [
       "Anel       62\n",
       "Chucho     76\n",
       "Emilio     74\n",
       "Jocelin    75\n",
       "Name: Peso, dtype: int64"
      ]
     },
     "execution_count": 44,
     "metadata": {},
     "output_type": "execute_result"
    }
   ],
   "source": [
    "# Aplicar una función a una columna del DataFrame\n",
    "def func(x):\n",
    "    return x +2;\n",
    "\n",
    "df[\"Peso\"].apply(func)"
   ]
  },
  {
   "cell_type": "markdown",
   "id": "221a0439-45ec-4c40-8342-876d12c7535a",
   "metadata": {},
   "source": [
    "## Guardar y Cargar el DataFrame"
   ]
  },
  {
   "cell_type": "code",
   "execution_count": 45,
   "id": "fe79b406-a1c2-4df1-af3f-aba0cf4642ae",
   "metadata": {},
   "outputs": [
    {
     "data": {
      "text/html": [
       "<div>\n",
       "<style scoped>\n",
       "    .dataframe tbody tr th:only-of-type {\n",
       "        vertical-align: middle;\n",
       "    }\n",
       "\n",
       "    .dataframe tbody tr th {\n",
       "        vertical-align: top;\n",
       "    }\n",
       "\n",
       "    .dataframe thead th {\n",
       "        text-align: right;\n",
       "    }\n",
       "</style>\n",
       "<table border=\"1\" class=\"dataframe\">\n",
       "  <thead>\n",
       "    <tr style=\"text-align: right;\">\n",
       "      <th></th>\n",
       "      <th>Peso</th>\n",
       "      <th>Altura</th>\n",
       "      <th>Mascotas</th>\n",
       "    </tr>\n",
       "  </thead>\n",
       "  <tbody>\n",
       "    <tr>\n",
       "      <th>Anel</th>\n",
       "      <td>60</td>\n",
       "      <td>145</td>\n",
       "      <td>2.0</td>\n",
       "    </tr>\n",
       "    <tr>\n",
       "      <th>Chucho</th>\n",
       "      <td>74</td>\n",
       "      <td>170</td>\n",
       "      <td>NaN</td>\n",
       "    </tr>\n",
       "    <tr>\n",
       "      <th>Emilio</th>\n",
       "      <td>72</td>\n",
       "      <td>169</td>\n",
       "      <td>NaN</td>\n",
       "    </tr>\n",
       "    <tr>\n",
       "      <th>Jocelin</th>\n",
       "      <td>73</td>\n",
       "      <td>170</td>\n",
       "      <td>9.0</td>\n",
       "    </tr>\n",
       "  </tbody>\n",
       "</table>\n",
       "</div>"
      ],
      "text/plain": [
       "         Peso  Altura  Mascotas\n",
       "Anel       60     145       2.0\n",
       "Chucho     74     170       NaN\n",
       "Emilio     72     169       NaN\n",
       "Jocelin    73     170       9.0"
      ]
     },
     "execution_count": 45,
     "metadata": {},
     "output_type": "execute_result"
    }
   ],
   "source": [
    "Personas = {\n",
    "    \"Peso\": pd.Series([72, 60, 74, 73], [\"Emilio\", \"Anel\", \"Chucho\", \"Jocelin\"]),\n",
    "    \"Altura\": pd.Series({\"Emilio\": 169, \"Anel\": 145, \"Chucho\": 170, \"Jocelin\": 170}),\n",
    "    \"Mascotas\": pd.Series([2, 9], [\"Anel\", \"Jocelin\"])\n",
    "}\n",
    "\n",
    "df = pd.DataFrame(Personas)\n",
    "df"
   ]
  },
  {
   "cell_type": "code",
   "execution_count": 46,
   "id": "419ee6e7-f0a7-42f7-a783-69cfb5284892",
   "metadata": {},
   "outputs": [],
   "source": [
    "# Guardar el DataFrame como CSV, HTML y JSON\n",
    "df.to_csv(\"df_Personas.csv\")\n",
    "df.to_html(\"df_Personas.html\")\n",
    "df.to_json(\"df_Personas.json\")\n",
    "    "
   ]
  },
  {
   "cell_type": "code",
   "execution_count": 47,
   "id": "f4eb95e2-3427-4805-be80-360db14cda8f",
   "metadata": {},
   "outputs": [],
   "source": [
    "# Cargar el DataFrame en Jupyter.\n",
    "df2 = pd.read_csv(\"df_Personas.csv\")"
   ]
  },
  {
   "cell_type": "code",
   "execution_count": 48,
   "id": "fc31f75b-76d6-457d-9f62-4ce9eb2a31f7",
   "metadata": {},
   "outputs": [
    {
     "data": {
      "text/html": [
       "<div>\n",
       "<style scoped>\n",
       "    .dataframe tbody tr th:only-of-type {\n",
       "        vertical-align: middle;\n",
       "    }\n",
       "\n",
       "    .dataframe tbody tr th {\n",
       "        vertical-align: top;\n",
       "    }\n",
       "\n",
       "    .dataframe thead th {\n",
       "        text-align: right;\n",
       "    }\n",
       "</style>\n",
       "<table border=\"1\" class=\"dataframe\">\n",
       "  <thead>\n",
       "    <tr style=\"text-align: right;\">\n",
       "      <th></th>\n",
       "      <th>Unnamed: 0</th>\n",
       "      <th>Peso</th>\n",
       "      <th>Altura</th>\n",
       "      <th>Mascotas</th>\n",
       "    </tr>\n",
       "  </thead>\n",
       "  <tbody>\n",
       "    <tr>\n",
       "      <th>0</th>\n",
       "      <td>Anel</td>\n",
       "      <td>60</td>\n",
       "      <td>145</td>\n",
       "      <td>2.0</td>\n",
       "    </tr>\n",
       "    <tr>\n",
       "      <th>1</th>\n",
       "      <td>Chucho</td>\n",
       "      <td>74</td>\n",
       "      <td>170</td>\n",
       "      <td>NaN</td>\n",
       "    </tr>\n",
       "    <tr>\n",
       "      <th>2</th>\n",
       "      <td>Emilio</td>\n",
       "      <td>72</td>\n",
       "      <td>169</td>\n",
       "      <td>NaN</td>\n",
       "    </tr>\n",
       "    <tr>\n",
       "      <th>3</th>\n",
       "      <td>Jocelin</td>\n",
       "      <td>73</td>\n",
       "      <td>170</td>\n",
       "      <td>9.0</td>\n",
       "    </tr>\n",
       "  </tbody>\n",
       "</table>\n",
       "</div>"
      ],
      "text/plain": [
       "  Unnamed: 0  Peso  Altura  Mascotas\n",
       "0       Anel    60     145       2.0\n",
       "1     Chucho    74     170       NaN\n",
       "2     Emilio    72     169       NaN\n",
       "3    Jocelin    73     170       9.0"
      ]
     },
     "execution_count": 48,
     "metadata": {},
     "output_type": "execute_result"
    }
   ],
   "source": [
    "df2"
   ]
  },
  {
   "cell_type": "code",
   "execution_count": 49,
   "id": "a1e51464-9791-4845-883f-7a012727ebf1",
   "metadata": {},
   "outputs": [],
   "source": [
    "# Cargar el DataFRame con la primera columna correctamente asignada\n",
    "df2 = pd.read_csv(\"df_Personas.csv\", index_col =0)"
   ]
  },
  {
   "cell_type": "code",
   "execution_count": 50,
   "id": "7cd9eaf7-c01f-4bbe-8e17-8798eed4240d",
   "metadata": {},
   "outputs": [
    {
     "data": {
      "text/html": [
       "<div>\n",
       "<style scoped>\n",
       "    .dataframe tbody tr th:only-of-type {\n",
       "        vertical-align: middle;\n",
       "    }\n",
       "\n",
       "    .dataframe tbody tr th {\n",
       "        vertical-align: top;\n",
       "    }\n",
       "\n",
       "    .dataframe thead th {\n",
       "        text-align: right;\n",
       "    }\n",
       "</style>\n",
       "<table border=\"1\" class=\"dataframe\">\n",
       "  <thead>\n",
       "    <tr style=\"text-align: right;\">\n",
       "      <th></th>\n",
       "      <th>Peso</th>\n",
       "      <th>Altura</th>\n",
       "      <th>Mascotas</th>\n",
       "    </tr>\n",
       "  </thead>\n",
       "  <tbody>\n",
       "    <tr>\n",
       "      <th>Anel</th>\n",
       "      <td>60</td>\n",
       "      <td>145</td>\n",
       "      <td>2.0</td>\n",
       "    </tr>\n",
       "    <tr>\n",
       "      <th>Chucho</th>\n",
       "      <td>74</td>\n",
       "      <td>170</td>\n",
       "      <td>NaN</td>\n",
       "    </tr>\n",
       "    <tr>\n",
       "      <th>Emilio</th>\n",
       "      <td>72</td>\n",
       "      <td>169</td>\n",
       "      <td>NaN</td>\n",
       "    </tr>\n",
       "    <tr>\n",
       "      <th>Jocelin</th>\n",
       "      <td>73</td>\n",
       "      <td>170</td>\n",
       "      <td>9.0</td>\n",
       "    </tr>\n",
       "  </tbody>\n",
       "</table>\n",
       "</div>"
      ],
      "text/plain": [
       "         Peso  Altura  Mascotas\n",
       "Anel       60     145       2.0\n",
       "Chucho     74     170       NaN\n",
       "Emilio     72     169       NaN\n",
       "Jocelin    73     170       9.0"
      ]
     },
     "execution_count": 50,
     "metadata": {},
     "output_type": "execute_result"
    }
   ],
   "source": [
    "df2"
   ]
  },
  {
   "cell_type": "code",
   "execution_count": null,
   "id": "8679ccdd-e7c8-4140-be7e-02ebef1a0b28",
   "metadata": {},
   "outputs": [],
   "source": []
  }
 ],
 "metadata": {
  "kernelspec": {
   "display_name": "Python 3 (ipykernel)",
   "language": "python",
   "name": "python3"
  },
  "language_info": {
   "codemirror_mode": {
    "name": "ipython",
    "version": 3
   },
   "file_extension": ".py",
   "mimetype": "text/x-python",
   "name": "python",
   "nbconvert_exporter": "python",
   "pygments_lexer": "ipython3",
   "version": "3.9.19"
  }
 },
 "nbformat": 4,
 "nbformat_minor": 5
}
